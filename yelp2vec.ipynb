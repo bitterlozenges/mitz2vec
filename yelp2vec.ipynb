{
 "cells": [
  {
   "cell_type": "markdown",
   "metadata": {},
   "source": [
    "# yelp2Vec \n",
    "\n",
    "Using the yelp dataset + word2vec"
   ]
  },
  {
   "cell_type": "markdown",
   "metadata": {},
   "source": [
    "## 1.  Setup "
   ]
  },
  {
   "cell_type": "markdown",
   "metadata": {},
   "source": [
    "Before you can run this notebook, you need to install the necessary requirements. You should run \n",
    "\n",
    "$ pip install -r requirements.txt\n",
    "\n",
    "in your terminal. \n",
    "\n",
    "Also make sure you have downloaded the yelp dataset, especially the \"tips\" file"
   ]
  },
  {
   "cell_type": "code",
   "execution_count": 246,
   "metadata": {
    "collapsed": false
   },
   "outputs": [
    {
     "data": {
      "text/html": [
       "\n",
       "    <div class=\"bk-root\">\n",
       "        <a href=\"http://bokeh.pydata.org\" target=\"_blank\" class=\"bk-logo bk-logo-small bk-logo-notebook\"></a>\n",
       "        <span id=\"1cd6b36a-7acf-4df5-8dd4-bd6b7e1f155b\">Loading BokehJS ...</span>\n",
       "    </div>"
      ]
     },
     "metadata": {},
     "output_type": "display_data"
    },
    {
     "data": {
      "application/javascript": [
       "\n",
       "(function(global) {\n",
       "  function now() {\n",
       "    return new Date();\n",
       "  }\n",
       "\n",
       "  var force = \"1\";\n",
       "\n",
       "  if (typeof (window._bokeh_onload_callbacks) === \"undefined\" || force !== \"\") {\n",
       "    window._bokeh_onload_callbacks = [];\n",
       "    window._bokeh_is_loading = undefined;\n",
       "  }\n",
       "\n",
       "\n",
       "  \n",
       "  if (typeof (window._bokeh_timeout) === \"undefined\" || force !== \"\") {\n",
       "    window._bokeh_timeout = Date.now() + 5000;\n",
       "    window._bokeh_failed_load = false;\n",
       "  }\n",
       "\n",
       "  var NB_LOAD_WARNING = {'data': {'text/html':\n",
       "     \"<div style='background-color: #fdd'>\\n\"+\n",
       "     \"<p>\\n\"+\n",
       "     \"BokehJS does not appear to have successfully loaded. If loading BokehJS from CDN, this \\n\"+\n",
       "     \"may be due to a slow or bad network connection. Possible fixes:\\n\"+\n",
       "     \"</p>\\n\"+\n",
       "     \"<ul>\\n\"+\n",
       "     \"<li>re-rerun `output_notebook()` to attempt to load from CDN again, or</li>\\n\"+\n",
       "     \"<li>use INLINE resources instead, as so:</li>\\n\"+\n",
       "     \"</ul>\\n\"+\n",
       "     \"<code>\\n\"+\n",
       "     \"from bokeh.resources import INLINE\\n\"+\n",
       "     \"output_notebook(resources=INLINE)\\n\"+\n",
       "     \"</code>\\n\"+\n",
       "     \"</div>\"}};\n",
       "\n",
       "  function display_loaded() {\n",
       "    if (window.Bokeh !== undefined) {\n",
       "      Bokeh.$(\"#1cd6b36a-7acf-4df5-8dd4-bd6b7e1f155b\").text(\"BokehJS successfully loaded.\");\n",
       "    } else if (Date.now() < window._bokeh_timeout) {\n",
       "      setTimeout(display_loaded, 100)\n",
       "    }\n",
       "  }\n",
       "\n",
       "  function run_callbacks() {\n",
       "    window._bokeh_onload_callbacks.forEach(function(callback) { callback() });\n",
       "    delete window._bokeh_onload_callbacks\n",
       "    console.info(\"Bokeh: all callbacks have finished\");\n",
       "  }\n",
       "\n",
       "  function load_libs(js_urls, callback) {\n",
       "    window._bokeh_onload_callbacks.push(callback);\n",
       "    if (window._bokeh_is_loading > 0) {\n",
       "      console.log(\"Bokeh: BokehJS is being loaded, scheduling callback at\", now());\n",
       "      return null;\n",
       "    }\n",
       "    if (js_urls == null || js_urls.length === 0) {\n",
       "      run_callbacks();\n",
       "      return null;\n",
       "    }\n",
       "    console.log(\"Bokeh: BokehJS not loaded, scheduling load and callback at\", now());\n",
       "    window._bokeh_is_loading = js_urls.length;\n",
       "    for (var i = 0; i < js_urls.length; i++) {\n",
       "      var url = js_urls[i];\n",
       "      var s = document.createElement('script');\n",
       "      s.src = url;\n",
       "      s.async = false;\n",
       "      s.onreadystatechange = s.onload = function() {\n",
       "        window._bokeh_is_loading--;\n",
       "        if (window._bokeh_is_loading === 0) {\n",
       "          console.log(\"Bokeh: all BokehJS libraries loaded\");\n",
       "          run_callbacks()\n",
       "        }\n",
       "      };\n",
       "      s.onerror = function() {\n",
       "        console.warn(\"failed to load library \" + url);\n",
       "      };\n",
       "      console.log(\"Bokeh: injecting script tag for BokehJS library: \", url);\n",
       "      document.getElementsByTagName(\"head\")[0].appendChild(s);\n",
       "    }\n",
       "  };var element = document.getElementById(\"1cd6b36a-7acf-4df5-8dd4-bd6b7e1f155b\");\n",
       "  if (element == null) {\n",
       "    console.log(\"Bokeh: ERROR: autoload.js configured with elementid '1cd6b36a-7acf-4df5-8dd4-bd6b7e1f155b' but no matching script tag was found. \")\n",
       "    return false;\n",
       "  }\n",
       "\n",
       "  var js_urls = ['https://cdn.pydata.org/bokeh/release/bokeh-0.12.3.min.js', 'https://cdn.pydata.org/bokeh/release/bokeh-widgets-0.12.3.min.js'];\n",
       "\n",
       "  var inline_js = [\n",
       "    function(Bokeh) {\n",
       "      Bokeh.set_log_level(\"info\");\n",
       "    },\n",
       "    \n",
       "    function(Bokeh) {\n",
       "      \n",
       "      Bokeh.$(\"#1cd6b36a-7acf-4df5-8dd4-bd6b7e1f155b\").text(\"BokehJS is loading...\");\n",
       "    },\n",
       "    function(Bokeh) {\n",
       "      console.log(\"Bokeh: injecting CSS: https://cdn.pydata.org/bokeh/release/bokeh-0.12.3.min.css\");\n",
       "      Bokeh.embed.inject_css(\"https://cdn.pydata.org/bokeh/release/bokeh-0.12.3.min.css\");\n",
       "      console.log(\"Bokeh: injecting CSS: https://cdn.pydata.org/bokeh/release/bokeh-widgets-0.12.3.min.css\");\n",
       "      Bokeh.embed.inject_css(\"https://cdn.pydata.org/bokeh/release/bokeh-widgets-0.12.3.min.css\");\n",
       "    }\n",
       "  ];\n",
       "\n",
       "  function run_inline_js() {\n",
       "    \n",
       "    if ((window.Bokeh !== undefined) || (force === \"1\")) {\n",
       "      for (var i = 0; i < inline_js.length; i++) {\n",
       "        inline_js[i](window.Bokeh);\n",
       "      }if (force === \"1\") {\n",
       "        display_loaded();\n",
       "      }} else if (Date.now() < window._bokeh_timeout) {\n",
       "      setTimeout(run_inline_js, 100);\n",
       "    } else if (!window._bokeh_failed_load) {\n",
       "      console.log(\"Bokeh: BokehJS failed to load within specified timeout.\");\n",
       "      window._bokeh_failed_load = true;\n",
       "    } else if (!force) {\n",
       "      var cell = $(\"#1cd6b36a-7acf-4df5-8dd4-bd6b7e1f155b\").parents('.cell').data().cell;\n",
       "      cell.output_area.append_execute_result(NB_LOAD_WARNING)\n",
       "    }\n",
       "\n",
       "  }\n",
       "\n",
       "  if (window._bokeh_is_loading === 0) {\n",
       "    console.log(\"Bokeh: BokehJS loaded, going straight to plotting\");\n",
       "    run_inline_js();\n",
       "  } else {\n",
       "    load_libs(js_urls, function() {\n",
       "      console.log(\"Bokeh: BokehJS plotting callback run at\", now());\n",
       "      run_inline_js();\n",
       "    });\n",
       "  }\n",
       "}(this));"
      ]
     },
     "metadata": {},
     "output_type": "display_data"
    }
   ],
   "source": [
    "# you'll probably get a lot of warnings here -- sorry \n",
    "from gensim.models import Word2Vec\n",
    "from gensim.models.word2vec import LineSentence\n",
    "import json\n",
    "import matplotlib.pyplot as plt\n",
    "import seaborn as sns\n",
    "import bokeh\n",
    "from sklearn.mixture import GaussianMixture as GMM\n",
    "from sklearn.decomposition import PCA\n",
    "import pandas as pd\n",
    "from bokeh.plotting import figure, show\n",
    "from bokeh.io import output_notebook\n",
    "import hdbscan\n",
    "% matplotlib inline\n",
    "output_notebook()"
   ]
  },
  {
   "cell_type": "markdown",
   "metadata": {},
   "source": [
    "## 2. Preprocessing Data + Learning the Model"
   ]
  },
  {
   "cell_type": "markdown",
   "metadata": {},
   "source": [
    "The yelp dataset gives us a json of users and their reviews for various restuarants and businesses. We want to preprocess this in to an adjanceny list form so that we can generate random walks over the graph, and throw it in to our word2vec model to generate \"distributed\" (vector) representations of the businesses. \n",
    "\n",
    "Our graph has nodes which are businesses. Edges are weighted connections between businesses, based off the number of users that reviewed both businesses. A pair of businesses which have never been reviewed by the same user have weight 0.\n",
    "\n",
    "The script \"prepreprocess.py\" takes in this json + outputs an adjacency list form of our desired grpah"
   ]
  },
  {
   "cell_type": "code",
   "execution_count": 185,
   "metadata": {
    "collapsed": false
   },
   "outputs": [
    {
     "name": "stdout",
     "output_type": "stream",
     "text": [
      "Constructing map - reviewer: business\n",
      "Constructing map - business: business, weight\n",
      "Writing to file\n"
     ]
    }
   ],
   "source": [
    "!python preprocess.py yelp_academic_dataset_tip.json"
   ]
  },
  {
   "cell_type": "markdown",
   "metadata": {},
   "source": [
    "Now that we have an adjacency list form of the graph, we generate multiple random walks over the graphs and write them to text files, which will serve as the input to our word2vec model, to generate vector representations of the businesses. "
   ]
  },
  {
   "cell_type": "code",
   "execution_count": 294,
   "metadata": {
    "collapsed": false
   },
   "outputs": [
    {
     "name": "stdout",
     "output_type": "stream",
     "text": [
      "PROCESSING GRAPH\n",
      "WRITING TO FILE\n"
     ]
    }
   ],
   "source": [
    "!python documentize.py yelp_academic_dataset_tip.txt tip2vec.txt"
   ]
  },
  {
   "cell_type": "markdown",
   "metadata": {},
   "source": [
    "Now that we have the file, with each random walk seperated by a line (thus representing a document), we can just throw it in to gensim's python wrapper for word2vec. Ah, the joys of not having to work in C. "
   ]
  },
  {
   "cell_type": "code",
   "execution_count": 189,
   "metadata": {
    "collapsed": false
   },
   "outputs": [
    {
     "name": "stderr",
     "output_type": "stream",
     "text": [
      "INFO:gensim.models.word2vec:collecting all words and their counts\n",
      "INFO:gensim.models.word2vec:PROGRESS: at sentence #0, processed 0 words, keeping 0 word types\n",
      "INFO:gensim.models.word2vec:collected 42638 word types from a corpus of 997536 raw words and 10000 sentences\n",
      "INFO:gensim.models.word2vec:Loading a fresh vocabulary\n",
      "INFO:gensim.models.word2vec:min_count=5 retains 25356 unique words (59% of original 42638, drops 17282)\n",
      "INFO:gensim.models.word2vec:min_count=5 leaves 961577 word corpus (96% of original 997536, drops 35959)\n",
      "INFO:gensim.models.word2vec:deleting the raw counts dictionary of 42638 items\n",
      "INFO:gensim.models.word2vec:sample=0.001 downsamples 4 most-common words\n",
      "INFO:gensim.models.word2vec:downsampling leaves estimated 959390 word corpus (99.8% of prior 961577)\n",
      "INFO:gensim.models.word2vec:estimated required memory for 25356 words and 100 dimensions: 32962800 bytes\n",
      "INFO:gensim.models.word2vec:resetting layer weights\n",
      "INFO:gensim.models.word2vec:training model with 4 workers on 25356 vocabulary and 100 features, using sg=0 hs=0 sample=0.001 negative=5 window=5\n",
      "INFO:gensim.models.word2vec:expecting 10000 sentences, matching count from corpus used for vocabulary survey\n",
      "INFO:gensim.models.word2vec:PROGRESS: at 11.37% examples, 548404 words/s, in_qsize 5, out_qsize 0\n",
      "INFO:gensim.models.word2vec:PROGRESS: at 24.15% examples, 583526 words/s, in_qsize 6, out_qsize 1\n",
      "INFO:gensim.models.word2vec:PROGRESS: at 38.47% examples, 613451 words/s, in_qsize 6, out_qsize 0\n",
      "INFO:gensim.models.word2vec:PROGRESS: at 52.32% examples, 626085 words/s, in_qsize 7, out_qsize 0\n",
      "INFO:gensim.models.word2vec:PROGRESS: at 66.48% examples, 634777 words/s, in_qsize 8, out_qsize 0\n",
      "INFO:gensim.models.word2vec:PROGRESS: at 81.16% examples, 641460 words/s, in_qsize 6, out_qsize 1\n",
      "INFO:gensim.models.word2vec:PROGRESS: at 95.60% examples, 648825 words/s, in_qsize 7, out_qsize 0\n",
      "INFO:gensim.models.word2vec:worker thread finished; awaiting finish of 3 more threads\n",
      "INFO:gensim.models.word2vec:worker thread finished; awaiting finish of 2 more threads\n",
      "INFO:gensim.models.word2vec:worker thread finished; awaiting finish of 1 more threads\n",
      "INFO:gensim.models.word2vec:worker thread finished; awaiting finish of 0 more threads\n",
      "INFO:gensim.models.word2vec:training on 4987680 raw words (4797046 effective words) took 7.4s, 649325 effective words/s\n"
     ]
    }
   ],
   "source": [
    "model = Word2Vec(LineSentence('tip2vec.txt'), size=100, window=5, min_count=5, workers=4)"
   ]
  },
  {
   "cell_type": "markdown",
   "metadata": {},
   "source": [
    "We extract the ids of each business and their vector representations from our model for future use, and assert that we maintained order: "
   ]
  },
  {
   "cell_type": "code",
   "execution_count": 198,
   "metadata": {
    "collapsed": false
   },
   "outputs": [],
   "source": [
    "business_ids, business_vecs = list(model.vocab.keys()), [model[bid] for bid in list(model.vocab.keys())]\n",
    "\n",
    "# unit test to make sure that everythings in the right order\n",
    "for idx in range(len(business_ids)):\n",
    "    for array_idx, val in enumerate(model[business_ids[idx]]): \n",
    "        assert model[business_ids[idx]][array_idx] == business_vecs[idx][array_idx]"
   ]
  },
  {
   "cell_type": "markdown",
   "metadata": {},
   "source": [
    "## 3.  Generating a DataFrame of Useful Restaurant Information"
   ]
  },
  {
   "cell_type": "markdown",
   "metadata": {},
   "source": [
    "We read in the data from the yelp dataset and store useful information about restaurants that might be good metrics of comparison in the dataframe"
   ]
  },
  {
   "cell_type": "code",
   "execution_count": 199,
   "metadata": {
    "collapsed": false
   },
   "outputs": [],
   "source": [
    "# info we want to store in the dataframe\n",
    "ids = []\n",
    "latitude = []\n",
    "longitude = []\n",
    "categories = []\n",
    "name = []\n",
    "stars = []\n",
    "\n",
    "# keys that we need to extract from the json to store in the\n",
    "# info we care about \n",
    "keys = ['stars','latitude', 'longitude', 'categories', 'name']\n",
    "\n",
    "with open('yelp_academic_dataset_business.json', 'r') as f: \n",
    "    for line in f: \n",
    "        # load each json -> each line is a json_dict\n",
    "        business_data = json.loads(line)\n",
    "        \n",
    "        # extract business id and make sure that it's \n",
    "        # one we have a vector representation of \n",
    "        # (random walk may have skipped some businesses, etc.)\n",
    "        bid = business_data[\"business_id\"] \n",
    "        if bid in business_ids:\n",
    "            # check to make sure json file contains all data because sometimes it doesn't\n",
    "            # and we don't care if there's no info \n",
    "            if all([key in business_data for key in keys]): \n",
    "                ids.append(bid)\n",
    "                name.append(business_data['name'])\n",
    "                stars.append(business_data['stars'])\n",
    "                latitude.append(business_data['latitude'])\n",
    "                longitude.append(business_data['longitude'])\n",
    "                categories.append(business_data['categories'])\n",
    "\n",
    "# make that daggum dataframe             \n",
    "df = pd.DataFrame(list(zip(ids, name, stars, latitude, longitude, categories)), \n",
    "                    columns = ['business_id', 'name', 'stars', 'lat', 'lng', 'categories'])"
   ]
  },
  {
   "cell_type": "markdown",
   "metadata": {
    "collapsed": false
   },
   "source": [
    "We also want to add the vector representations of businesses to the dataframe for reference:"
   ]
  },
  {
   "cell_type": "code",
   "execution_count": 200,
   "metadata": {
    "collapsed": true
   },
   "outputs": [],
   "source": [
    "df['vector'] = [model[bid] for bid in df['business_id']]"
   ]
  },
  {
   "cell_type": "markdown",
   "metadata": {},
   "source": [
    "We do a sanity check to make sure our dataframe looks good: "
   ]
  },
  {
   "cell_type": "code",
   "execution_count": 201,
   "metadata": {
    "collapsed": false
   },
   "outputs": [
    {
     "data": {
      "text/html": [
       "<div>\n",
       "<table border=\"1\" class=\"dataframe\">\n",
       "  <thead>\n",
       "    <tr style=\"text-align: right;\">\n",
       "      <th></th>\n",
       "      <th>business_id</th>\n",
       "      <th>name</th>\n",
       "      <th>stars</th>\n",
       "      <th>lat</th>\n",
       "      <th>lng</th>\n",
       "      <th>categories</th>\n",
       "      <th>vector</th>\n",
       "    </tr>\n",
       "  </thead>\n",
       "  <tbody>\n",
       "    <tr>\n",
       "      <th>0</th>\n",
       "      <td>1_lU0-eSWJCRvNGk78Zh9Q</td>\n",
       "      <td>Carnegie Free Library</td>\n",
       "      <td>4.5</td>\n",
       "      <td>40.406842</td>\n",
       "      <td>-80.085866</td>\n",
       "      <td>[Libraries, Public Services &amp; Government]</td>\n",
       "      <td>[-0.0963103, 0.0679244, 0.0314857, -0.167554, ...</td>\n",
       "    </tr>\n",
       "    <tr>\n",
       "      <th>1</th>\n",
       "      <td>_qopVQ6_Mz6W7-Pmbi56GQ</td>\n",
       "      <td>Advance Auto Parts</td>\n",
       "      <td>3.5</td>\n",
       "      <td>40.398353</td>\n",
       "      <td>-80.082452</td>\n",
       "      <td>[Automotive, Auto Parts &amp; Supplies]</td>\n",
       "      <td>[-0.064731, 0.0568864, 0.0229814, -0.12861, 0....</td>\n",
       "    </tr>\n",
       "    <tr>\n",
       "      <th>2</th>\n",
       "      <td>Cdcus0NADzyY3XiJM2O5Sg</td>\n",
       "      <td>Heidelberg B P</td>\n",
       "      <td>3.0</td>\n",
       "      <td>40.388284</td>\n",
       "      <td>-80.089241</td>\n",
       "      <td>[Automotive, Gas &amp; Service Stations]</td>\n",
       "      <td>[-0.195775, 0.154632, 0.0737828, -0.306864, 0....</td>\n",
       "    </tr>\n",
       "    <tr>\n",
       "      <th>3</th>\n",
       "      <td>SQ0j7bgSTazkVQlF5AnqyQ</td>\n",
       "      <td>Don Don Chinese Restaurant</td>\n",
       "      <td>2.5</td>\n",
       "      <td>40.408347</td>\n",
       "      <td>-80.084962</td>\n",
       "      <td>[Chinese, Restaurants]</td>\n",
       "      <td>[-0.0714054, 0.0329472, 0.0254406, -0.180049, ...</td>\n",
       "    </tr>\n",
       "    <tr>\n",
       "      <th>4</th>\n",
       "      <td>wqu7ILomIOPSduRwoWp4AQ</td>\n",
       "      <td>Denny's</td>\n",
       "      <td>3.5</td>\n",
       "      <td>40.391140</td>\n",
       "      <td>-80.073788</td>\n",
       "      <td>[Breakfast &amp; Brunch, American (Traditional), D...</td>\n",
       "      <td>[-0.0988708, 0.0549295, 0.0224838, -0.193019, ...</td>\n",
       "    </tr>\n",
       "  </tbody>\n",
       "</table>\n",
       "</div>"
      ],
      "text/plain": [
       "              business_id                        name  stars        lat  \\\n",
       "0  1_lU0-eSWJCRvNGk78Zh9Q       Carnegie Free Library    4.5  40.406842   \n",
       "1  _qopVQ6_Mz6W7-Pmbi56GQ          Advance Auto Parts    3.5  40.398353   \n",
       "2  Cdcus0NADzyY3XiJM2O5Sg              Heidelberg B P    3.0  40.388284   \n",
       "3  SQ0j7bgSTazkVQlF5AnqyQ  Don Don Chinese Restaurant    2.5  40.408347   \n",
       "4  wqu7ILomIOPSduRwoWp4AQ                     Denny's    3.5  40.391140   \n",
       "\n",
       "         lng                                         categories  \\\n",
       "0 -80.085866          [Libraries, Public Services & Government]   \n",
       "1 -80.082452                [Automotive, Auto Parts & Supplies]   \n",
       "2 -80.089241               [Automotive, Gas & Service Stations]   \n",
       "3 -80.084962                             [Chinese, Restaurants]   \n",
       "4 -80.073788  [Breakfast & Brunch, American (Traditional), D...   \n",
       "\n",
       "                                              vector  \n",
       "0  [-0.0963103, 0.0679244, 0.0314857, -0.167554, ...  \n",
       "1  [-0.064731, 0.0568864, 0.0229814, -0.12861, 0....  \n",
       "2  [-0.195775, 0.154632, 0.0737828, -0.306864, 0....  \n",
       "3  [-0.0714054, 0.0329472, 0.0254406, -0.180049, ...  \n",
       "4  [-0.0988708, 0.0549295, 0.0224838, -0.193019, ...  "
      ]
     },
     "execution_count": 201,
     "metadata": {},
     "output_type": "execute_result"
    }
   ],
   "source": [
    "df.head()"
   ]
  },
  {
   "cell_type": "markdown",
   "metadata": {},
   "source": [
    "# 4. Manual Validation of Model "
   ]
  },
  {
   "cell_type": "markdown",
   "metadata": {},
   "source": [
    "We now want to see if our vector representations offer any meaningful metric of similarity. We can \"visually\" validate our vector represenations by looking at what businesses are considered \"similar\" to each other. "
   ]
  },
  {
   "cell_type": "code",
   "execution_count": 209,
   "metadata": {
    "collapsed": false
   },
   "outputs": [],
   "source": [
    "def find_similar(bid, model, dataframe): \n",
    "    '''\n",
    "        find_similar\n",
    "        \n",
    "        params: \n",
    "            bid: a string identifier of the business for \n",
    "            which you want to find similar businesses\n",
    "                optional: can also be a list of bids\n",
    "            \n",
    "            model: a word2vec model that maps \n",
    "            business_ids to corresponding vectors\n",
    "            \n",
    "            dataframe: a dataframe containing (at least)\n",
    "            'business_id' and corresponding 'vector'\n",
    "            columns\n",
    "        \n",
    "        returns: a pandas dataframe of the top 10 similar \n",
    "                 businesses to the given bid. Note\n",
    "                 that these are not in sorted order \n",
    "                 (for now)\n",
    "    '''\n",
    "    # extract top 10 most similar vector represenations from model\n",
    "    similar_businesses = [t[0] for t in model.most_similar(bid)]\n",
    "    # parse through df to find those most similar businesses \n",
    "    new_df = df[df['business_id'].isin(similar_businesses)]\n",
    "    # return df of similar businesses \n",
    "    return new_df "
   ]
  },
  {
   "cell_type": "markdown",
   "metadata": {},
   "source": [
    "Now we test! '\\_qopVQ6_Mz6W7-Pmbi56GQ\\' is the string identifier for \"Advanced Auto Parts.\" Let's see what's most similar to that"
   ]
  },
  {
   "cell_type": "code",
   "execution_count": 213,
   "metadata": {
    "collapsed": false
   },
   "outputs": [
    {
     "data": {
      "text/html": [
       "<div>\n",
       "<table border=\"1\" class=\"dataframe\">\n",
       "  <thead>\n",
       "    <tr style=\"text-align: right;\">\n",
       "      <th></th>\n",
       "      <th>business_id</th>\n",
       "      <th>name</th>\n",
       "      <th>stars</th>\n",
       "      <th>lat</th>\n",
       "      <th>lng</th>\n",
       "      <th>categories</th>\n",
       "      <th>vector</th>\n",
       "    </tr>\n",
       "  </thead>\n",
       "  <tbody>\n",
       "    <tr>\n",
       "      <th>102</th>\n",
       "      <td>c1ixeRdwTvNt6YLew-sSCg</td>\n",
       "      <td>Parkway Center Mall</td>\n",
       "      <td>1.0</td>\n",
       "      <td>40.422462</td>\n",
       "      <td>-80.035601</td>\n",
       "      <td>[Shopping Centers, Shopping]</td>\n",
       "      <td>[-0.124618, 0.0962142, 0.0535299, -0.244144, 0...</td>\n",
       "    </tr>\n",
       "    <tr>\n",
       "      <th>150</th>\n",
       "      <td>z4cguIVh7jL9tTPf5EqRcA</td>\n",
       "      <td>David L. Lawrence Convention Center</td>\n",
       "      <td>3.5</td>\n",
       "      <td>40.445813</td>\n",
       "      <td>-79.996222</td>\n",
       "      <td>[Event Planning &amp; Services, Venues &amp; Event Spa...</td>\n",
       "      <td>[-0.279789, 0.231827, 0.114922, -0.520659, 0.1...</td>\n",
       "    </tr>\n",
       "    <tr>\n",
       "      <th>7358</th>\n",
       "      <td>pMm91uJMxfq6CFON9LqLRg</td>\n",
       "      <td>Bistro 19</td>\n",
       "      <td>4.0</td>\n",
       "      <td>40.380112</td>\n",
       "      <td>-80.044515</td>\n",
       "      <td>[American (New), Restaurants]</td>\n",
       "      <td>[-0.180363, 0.137177, 0.0743509, -0.304754, 0....</td>\n",
       "    </tr>\n",
       "    <tr>\n",
       "      <th>9348</th>\n",
       "      <td>AJVRAkLUB7ps0ARYWk6QtQ</td>\n",
       "      <td>Joseph-Beth Booksellers</td>\n",
       "      <td>4.5</td>\n",
       "      <td>40.424880</td>\n",
       "      <td>-79.980960</td>\n",
       "      <td>[Books, Mags, Music &amp; Video, Shopping]</td>\n",
       "      <td>[-0.117586, 0.0873632, 0.0591709, -0.222432, 0...</td>\n",
       "    </tr>\n",
       "    <tr>\n",
       "      <th>9724</th>\n",
       "      <td>wlS-0nxpHQaFqv_iZ01fvw</td>\n",
       "      <td>Oh Yeah! Ice Cream &amp; Coffee</td>\n",
       "      <td>3.5</td>\n",
       "      <td>40.457865</td>\n",
       "      <td>-79.925480</td>\n",
       "      <td>[Food, Ice Cream &amp; Frozen Yogurt, Coffee &amp; Tea]</td>\n",
       "      <td>[-0.175929, 0.136421, 0.0751082, -0.309864, 0....</td>\n",
       "    </tr>\n",
       "    <tr>\n",
       "      <th>10488</th>\n",
       "      <td>iwkDUiXpKjtSWWNyO9ORyg</td>\n",
       "      <td>Space</td>\n",
       "      <td>4.0</td>\n",
       "      <td>40.442682</td>\n",
       "      <td>-79.998308</td>\n",
       "      <td>[Arts &amp; Entertainment, Art Galleries, Shopping]</td>\n",
       "      <td>[-0.0865986, 0.0629779, 0.0313787, -0.13973, 0...</td>\n",
       "    </tr>\n",
       "    <tr>\n",
       "      <th>12782</th>\n",
       "      <td>9hF1vOOkT-OMVhYwPCxtcw</td>\n",
       "      <td>JT's Restaurant</td>\n",
       "      <td>4.0</td>\n",
       "      <td>40.365187</td>\n",
       "      <td>-79.982437</td>\n",
       "      <td>[Diners, Restaurants]</td>\n",
       "      <td>[-0.0910363, 0.0780005, 0.0415349, -0.177964, ...</td>\n",
       "    </tr>\n",
       "    <tr>\n",
       "      <th>14179</th>\n",
       "      <td>_wmXYLUf4VThpcO9pDxHGg</td>\n",
       "      <td>Beer Nutz Bottle Shop</td>\n",
       "      <td>3.5</td>\n",
       "      <td>40.489980</td>\n",
       "      <td>-79.873971</td>\n",
       "      <td>[Bars, American (Traditional), Nightlife, Rest...</td>\n",
       "      <td>[-0.14057, 0.126322, 0.0659112, -0.245177, 0.0...</td>\n",
       "    </tr>\n",
       "    <tr>\n",
       "      <th>17764</th>\n",
       "      <td>cUVoyuhqv3ArYwwG_YcY1w</td>\n",
       "      <td>Crazy Mocha Coffee</td>\n",
       "      <td>3.5</td>\n",
       "      <td>40.455708</td>\n",
       "      <td>-80.006516</td>\n",
       "      <td>[Food, Coffee &amp; Tea]</td>\n",
       "      <td>[-0.137997, 0.105442, 0.0560443, -0.23143, 0.0...</td>\n",
       "    </tr>\n",
       "    <tr>\n",
       "      <th>21161</th>\n",
       "      <td>JrdoWznKY-OFmwCkv75P_A</td>\n",
       "      <td>Nicky's Thai Kitchen</td>\n",
       "      <td>4.0</td>\n",
       "      <td>40.443941</td>\n",
       "      <td>-79.998232</td>\n",
       "      <td>[Thai, Seafood, Vegan, Restaurants]</td>\n",
       "      <td>[-0.20393, 0.175143, 0.0979391, -0.364918, 0.1...</td>\n",
       "    </tr>\n",
       "  </tbody>\n",
       "</table>\n",
       "</div>"
      ],
      "text/plain": [
       "                  business_id                                 name  stars  \\\n",
       "102    c1ixeRdwTvNt6YLew-sSCg                  Parkway Center Mall    1.0   \n",
       "150    z4cguIVh7jL9tTPf5EqRcA  David L. Lawrence Convention Center    3.5   \n",
       "7358   pMm91uJMxfq6CFON9LqLRg                            Bistro 19    4.0   \n",
       "9348   AJVRAkLUB7ps0ARYWk6QtQ              Joseph-Beth Booksellers    4.5   \n",
       "9724   wlS-0nxpHQaFqv_iZ01fvw          Oh Yeah! Ice Cream & Coffee    3.5   \n",
       "10488  iwkDUiXpKjtSWWNyO9ORyg                                Space    4.0   \n",
       "12782  9hF1vOOkT-OMVhYwPCxtcw                      JT's Restaurant    4.0   \n",
       "14179  _wmXYLUf4VThpcO9pDxHGg                Beer Nutz Bottle Shop    3.5   \n",
       "17764  cUVoyuhqv3ArYwwG_YcY1w                   Crazy Mocha Coffee    3.5   \n",
       "21161  JrdoWznKY-OFmwCkv75P_A                 Nicky's Thai Kitchen    4.0   \n",
       "\n",
       "             lat        lng  \\\n",
       "102    40.422462 -80.035601   \n",
       "150    40.445813 -79.996222   \n",
       "7358   40.380112 -80.044515   \n",
       "9348   40.424880 -79.980960   \n",
       "9724   40.457865 -79.925480   \n",
       "10488  40.442682 -79.998308   \n",
       "12782  40.365187 -79.982437   \n",
       "14179  40.489980 -79.873971   \n",
       "17764  40.455708 -80.006516   \n",
       "21161  40.443941 -79.998232   \n",
       "\n",
       "                                              categories  \\\n",
       "102                         [Shopping Centers, Shopping]   \n",
       "150    [Event Planning & Services, Venues & Event Spa...   \n",
       "7358                       [American (New), Restaurants]   \n",
       "9348              [Books, Mags, Music & Video, Shopping]   \n",
       "9724     [Food, Ice Cream & Frozen Yogurt, Coffee & Tea]   \n",
       "10488    [Arts & Entertainment, Art Galleries, Shopping]   \n",
       "12782                              [Diners, Restaurants]   \n",
       "14179  [Bars, American (Traditional), Nightlife, Rest...   \n",
       "17764                               [Food, Coffee & Tea]   \n",
       "21161                [Thai, Seafood, Vegan, Restaurants]   \n",
       "\n",
       "                                                  vector  \n",
       "102    [-0.124618, 0.0962142, 0.0535299, -0.244144, 0...  \n",
       "150    [-0.279789, 0.231827, 0.114922, -0.520659, 0.1...  \n",
       "7358   [-0.180363, 0.137177, 0.0743509, -0.304754, 0....  \n",
       "9348   [-0.117586, 0.0873632, 0.0591709, -0.222432, 0...  \n",
       "9724   [-0.175929, 0.136421, 0.0751082, -0.309864, 0....  \n",
       "10488  [-0.0865986, 0.0629779, 0.0313787, -0.13973, 0...  \n",
       "12782  [-0.0910363, 0.0780005, 0.0415349, -0.177964, ...  \n",
       "14179  [-0.14057, 0.126322, 0.0659112, -0.245177, 0.0...  \n",
       "17764  [-0.137997, 0.105442, 0.0560443, -0.23143, 0.0...  \n",
       "21161  [-0.20393, 0.175143, 0.0979391, -0.364918, 0.1...  "
      ]
     },
     "execution_count": 213,
     "metadata": {},
     "output_type": "execute_result"
    }
   ],
   "source": [
    "new_df = find_similar('_qopVQ6_Mz6W7-Pmbi56GQ', model, df)\n",
    "new_df.head(10)"
   ]
  },
  {
   "cell_type": "markdown",
   "metadata": {},
   "source": [
    "It seems as if similar businesses have very similar latitude and longitude coordinates, but not much else. Let's test again on a restaurant. We'll use the identifier 'pMm91uJMxfq6CFON9LqLRg' for Bistro 19, an American restaurant"
   ]
  },
  {
   "cell_type": "code",
   "execution_count": 214,
   "metadata": {
    "collapsed": false
   },
   "outputs": [
    {
     "data": {
      "text/html": [
       "<div>\n",
       "<table border=\"1\" class=\"dataframe\">\n",
       "  <thead>\n",
       "    <tr style=\"text-align: right;\">\n",
       "      <th></th>\n",
       "      <th>business_id</th>\n",
       "      <th>name</th>\n",
       "      <th>stars</th>\n",
       "      <th>lat</th>\n",
       "      <th>lng</th>\n",
       "      <th>categories</th>\n",
       "      <th>vector</th>\n",
       "    </tr>\n",
       "  </thead>\n",
       "  <tbody>\n",
       "    <tr>\n",
       "      <th>200</th>\n",
       "      <td>9SPwF-vRgtuHxciFxv5YLA</td>\n",
       "      <td>Soba</td>\n",
       "      <td>4.0</td>\n",
       "      <td>40.457103</td>\n",
       "      <td>-79.929635</td>\n",
       "      <td>[Korean, Asian Fusion, Japanese, Restaurants]</td>\n",
       "      <td>[-0.18669, 0.151133, 0.0782453, -0.316213, 0.0...</td>\n",
       "    </tr>\n",
       "    <tr>\n",
       "      <th>3614</th>\n",
       "      <td>Ii7h87LYLxug62Y_CmnXkA</td>\n",
       "      <td>North Shore Riverfront Park</td>\n",
       "      <td>4.5</td>\n",
       "      <td>40.445709</td>\n",
       "      <td>-80.007311</td>\n",
       "      <td>[Active Life, Parks]</td>\n",
       "      <td>[-0.179346, 0.151455, 0.0698435, -0.2942, 0.09...</td>\n",
       "    </tr>\n",
       "    <tr>\n",
       "      <th>3617</th>\n",
       "      <td>fvhWfSPlx5J_3F-ScLpvXQ</td>\n",
       "      <td>Penn Brewery</td>\n",
       "      <td>3.5</td>\n",
       "      <td>40.457127</td>\n",
       "      <td>-79.991547</td>\n",
       "      <td>[German, Breweries, Venues &amp; Event Spaces, Foo...</td>\n",
       "      <td>[-0.20545, 0.163067, 0.100372, -0.331996, 0.09...</td>\n",
       "    </tr>\n",
       "    <tr>\n",
       "      <th>6326</th>\n",
       "      <td>J2x_AMx591i6TK3xccEzqQ</td>\n",
       "      <td>The Enrico Biscotti</td>\n",
       "      <td>4.0</td>\n",
       "      <td>40.451316</td>\n",
       "      <td>-79.983203</td>\n",
       "      <td>[Bakeries, Food, Restaurants, Italian]</td>\n",
       "      <td>[-0.249007, 0.199813, 0.103947, -0.420936, 0.1...</td>\n",
       "    </tr>\n",
       "    <tr>\n",
       "      <th>13208</th>\n",
       "      <td>fGTrdnKyM_wdT6niaxzU3Q</td>\n",
       "      <td>Hough's</td>\n",
       "      <td>4.0</td>\n",
       "      <td>40.426262</td>\n",
       "      <td>-79.940331</td>\n",
       "      <td>[Bars, American (New), Restaurants, Sports Bar...</td>\n",
       "      <td>[-0.289807, 0.245938, 0.135388, -0.464578, 0.1...</td>\n",
       "    </tr>\n",
       "    <tr>\n",
       "      <th>14179</th>\n",
       "      <td>_wmXYLUf4VThpcO9pDxHGg</td>\n",
       "      <td>Beer Nutz Bottle Shop</td>\n",
       "      <td>3.5</td>\n",
       "      <td>40.489980</td>\n",
       "      <td>-79.873971</td>\n",
       "      <td>[Bars, American (Traditional), Nightlife, Rest...</td>\n",
       "      <td>[-0.14057, 0.126322, 0.0659112, -0.245177, 0.0...</td>\n",
       "    </tr>\n",
       "    <tr>\n",
       "      <th>14226</th>\n",
       "      <td>qE5Q3Yj2Up3wewsh1NsTuA</td>\n",
       "      <td>Eggs-R-Us</td>\n",
       "      <td>4.0</td>\n",
       "      <td>40.427165</td>\n",
       "      <td>-80.055701</td>\n",
       "      <td>[Breakfast &amp; Brunch, Restaurants]</td>\n",
       "      <td>[-0.158666, 0.132155, 0.07251, -0.285929, 0.07...</td>\n",
       "    </tr>\n",
       "    <tr>\n",
       "      <th>17288</th>\n",
       "      <td>CnKQgNyBmIvTE7zfegmV7Q</td>\n",
       "      <td>Savoy</td>\n",
       "      <td>3.5</td>\n",
       "      <td>40.455525</td>\n",
       "      <td>-79.978064</td>\n",
       "      <td>[Wine Bars, Bars, American (New), Nightlife, R...</td>\n",
       "      <td>[-0.250737, 0.210851, 0.105074, -0.433313, 0.1...</td>\n",
       "    </tr>\n",
       "    <tr>\n",
       "      <th>17445</th>\n",
       "      <td>v3MGJBF1Mc61KwgqiIY-uA</td>\n",
       "      <td>Park Bruges</td>\n",
       "      <td>4.0</td>\n",
       "      <td>40.476177</td>\n",
       "      <td>-79.920524</td>\n",
       "      <td>[Belgian, Restaurants]</td>\n",
       "      <td>[-0.188209, 0.154296, 0.0887561, -0.330914, 0....</td>\n",
       "    </tr>\n",
       "    <tr>\n",
       "      <th>25215</th>\n",
       "      <td>FJ8M_nW2hbh2JnJxEnZnjw</td>\n",
       "      <td>Bakersfield Penn Ave</td>\n",
       "      <td>4.5</td>\n",
       "      <td>40.443944</td>\n",
       "      <td>-79.996581</td>\n",
       "      <td>[Bars, Mexican, Nightlife, Restaurants]</td>\n",
       "      <td>[-0.164152, 0.132853, 0.067053, -0.278174, 0.0...</td>\n",
       "    </tr>\n",
       "  </tbody>\n",
       "</table>\n",
       "</div>"
      ],
      "text/plain": [
       "                  business_id                         name  stars        lat  \\\n",
       "200    9SPwF-vRgtuHxciFxv5YLA                         Soba    4.0  40.457103   \n",
       "3614   Ii7h87LYLxug62Y_CmnXkA  North Shore Riverfront Park    4.5  40.445709   \n",
       "3617   fvhWfSPlx5J_3F-ScLpvXQ                 Penn Brewery    3.5  40.457127   \n",
       "6326   J2x_AMx591i6TK3xccEzqQ          The Enrico Biscotti    4.0  40.451316   \n",
       "13208  fGTrdnKyM_wdT6niaxzU3Q                      Hough's    4.0  40.426262   \n",
       "14179  _wmXYLUf4VThpcO9pDxHGg        Beer Nutz Bottle Shop    3.5  40.489980   \n",
       "14226  qE5Q3Yj2Up3wewsh1NsTuA                    Eggs-R-Us    4.0  40.427165   \n",
       "17288  CnKQgNyBmIvTE7zfegmV7Q                        Savoy    3.5  40.455525   \n",
       "17445  v3MGJBF1Mc61KwgqiIY-uA                  Park Bruges    4.0  40.476177   \n",
       "25215  FJ8M_nW2hbh2JnJxEnZnjw         Bakersfield Penn Ave    4.5  40.443944   \n",
       "\n",
       "             lng                                         categories  \\\n",
       "200   -79.929635      [Korean, Asian Fusion, Japanese, Restaurants]   \n",
       "3614  -80.007311                               [Active Life, Parks]   \n",
       "3617  -79.991547  [German, Breweries, Venues & Event Spaces, Foo...   \n",
       "6326  -79.983203             [Bakeries, Food, Restaurants, Italian]   \n",
       "13208 -79.940331  [Bars, American (New), Restaurants, Sports Bar...   \n",
       "14179 -79.873971  [Bars, American (Traditional), Nightlife, Rest...   \n",
       "14226 -80.055701                  [Breakfast & Brunch, Restaurants]   \n",
       "17288 -79.978064  [Wine Bars, Bars, American (New), Nightlife, R...   \n",
       "17445 -79.920524                             [Belgian, Restaurants]   \n",
       "25215 -79.996581            [Bars, Mexican, Nightlife, Restaurants]   \n",
       "\n",
       "                                                  vector  \n",
       "200    [-0.18669, 0.151133, 0.0782453, -0.316213, 0.0...  \n",
       "3614   [-0.179346, 0.151455, 0.0698435, -0.2942, 0.09...  \n",
       "3617   [-0.20545, 0.163067, 0.100372, -0.331996, 0.09...  \n",
       "6326   [-0.249007, 0.199813, 0.103947, -0.420936, 0.1...  \n",
       "13208  [-0.289807, 0.245938, 0.135388, -0.464578, 0.1...  \n",
       "14179  [-0.14057, 0.126322, 0.0659112, -0.245177, 0.0...  \n",
       "14226  [-0.158666, 0.132155, 0.07251, -0.285929, 0.07...  \n",
       "17288  [-0.250737, 0.210851, 0.105074, -0.433313, 0.1...  \n",
       "17445  [-0.188209, 0.154296, 0.0887561, -0.330914, 0....  \n",
       "25215  [-0.164152, 0.132853, 0.067053, -0.278174, 0.0...  "
      ]
     },
     "execution_count": 214,
     "metadata": {},
     "output_type": "execute_result"
    }
   ],
   "source": [
    "new_df = find_similar('pMm91uJMxfq6CFON9LqLRg', model, df)\n",
    "new_df.head(10)"
   ]
  },
  {
   "cell_type": "markdown",
   "metadata": {},
   "source": [
    "## 5. Statistical and Visual Validation of Model "
   ]
  },
  {
   "cell_type": "markdown",
   "metadata": {},
   "source": [
    "Out intuition, both from the design of this project and from the previous experiments, is that cosine-similar restaurants under our word2vec model will be located very close to each other in real space (latitude + longitude) along with vector space, as users that tip a lot of the same restaurants are often in closeby locations. We will test this by clustering over the vector representations of the restaurants, and then plotting our clusters against the latitude and longitude \n",
    "\n",
    "We'll start with an interactive scatter plot of latitude and longitude to see what we should initialize our clusters to"
   ]
  },
  {
   "cell_type": "markdown",
   "metadata": {},
   "source": [
    "### Scatter Plot of Latitude and Longitude "
   ]
  },
  {
   "cell_type": "markdown",
   "metadata": {},
   "source": [
    "We offer a scatter plot of our latitude and longitude to see what distinct clusters (cities) we have, and to get an idea of what our geographic data looks like "
   ]
  },
  {
   "cell_type": "code",
   "execution_count": 218,
   "metadata": {
    "collapsed": true
   },
   "outputs": [],
   "source": [
    "sns.lmplot?"
   ]
  },
  {
   "cell_type": "code",
   "execution_count": 219,
   "metadata": {
    "collapsed": false
   },
   "outputs": [
    {
     "data": {
      "image/png": "[encoded data removed]",
      "text/plain": [
       "<matplotlib.figure.Figure at 0x109d2be80>"
      ]
     },
     "metadata": {},
     "output_type": "display_data"
    }
   ],
   "source": [
    "sns.lmplot(x = 'lat', y = 'lng', data = df, fit_reg= False)\n",
    "sns.despine()"
   ]
  },
  {
   "cell_type": "markdown",
   "metadata": {},
   "source": [
    "Before we do anything else, let's also try to visualize our restaurant vectors in two dimmensions. Right now they're 100 dimmensional vectors (incredibly hard to visualize) -- but let's try to see what they look like in two dimmensions. We use PCA to reduce the dimmensionality of the vectors and see what they look like"
   ]
  },
  {
   "cell_type": "code",
   "execution_count": 227,
   "metadata": {
    "collapsed": true
   },
   "outputs": [],
   "source": [
    "pca = PCA(2)\n",
    "x = pca.fit_transform(list(df.vector))\n",
    "df['2D_x'] = [c[0] for c in x]\n",
    "df['2D_y'] = [c[1] for c in x]"
   ]
  },
  {
   "cell_type": "code",
   "execution_count": 228,
   "metadata": {
    "collapsed": false
   },
   "outputs": [
    {
     "data": {
      "text/plain": [
       "<seaborn.axisgrid.FacetGrid at 0x10a31b198>"
      ]
     },
     "execution_count": 228,
     "metadata": {},
     "output_type": "execute_result"
    },
    {
     "data": {
      "image/png": "[encoded data removed]",
      "text/plain": [
       "<matplotlib.figure.Figure at 0x10a32d5f8>"
      ]
     },
     "metadata": {},
     "output_type": "display_data"
    }
   ],
   "source": [
    "sns.lmplot(x = '2D_x', y = '2D_y', data = df, fit_reg = False)"
   ]
  },
  {
   "cell_type": "markdown",
   "metadata": {},
   "source": [
    "I'm not sure what to make of that at all -- perhaps PCA is just fucked lol"
   ]
  },
  {
   "cell_type": "code",
   "execution_count": 281,
   "metadata": {
    "collapsed": false
   },
   "outputs": [],
   "source": [
    "vector_df = [[x[i] for x in list(df.vector)] for i in range(len(df.vector[0]))]"
   ]
  },
  {
   "cell_type": "code",
   "execution_count": 282,
   "metadata": {
    "collapsed": false
   },
   "outputs": [
    {
     "data": {
      "text/plain": [
       "0    [-0.0963103, 0.0679244, 0.0314857, -0.167554, ...\n",
       "1    [-0.064731, 0.0568864, 0.0229814, -0.12861, 0....\n",
       "2    [-0.195775, 0.154632, 0.0737828, -0.306864, 0....\n",
       "3    [-0.0714054, 0.0329472, 0.0254406, -0.180049, ...\n",
       "4    [-0.0988708, 0.0549295, 0.0224838, -0.193019, ...\n",
       "Name: vector, dtype: object"
      ]
     },
     "execution_count": 282,
     "metadata": {},
     "output_type": "execute_result"
    }
   ],
   "source": [
    "df['vector'][:5]"
   ]
  },
  {
   "cell_type": "code",
   "execution_count": 284,
   "metadata": {
    "collapsed": false
   },
   "outputs": [
    {
     "data": {
      "text/html": [
       "<div>\n",
       "<table border=\"1\" class=\"dataframe\">\n",
       "  <thead>\n",
       "    <tr style=\"text-align: right;\">\n",
       "      <th></th>\n",
       "      <th>0</th>\n",
       "      <th>1</th>\n",
       "      <th>2</th>\n",
       "      <th>3</th>\n",
       "      <th>4</th>\n",
       "      <th>5</th>\n",
       "      <th>6</th>\n",
       "      <th>7</th>\n",
       "      <th>8</th>\n",
       "      <th>9</th>\n",
       "      <th>...</th>\n",
       "      <th>90</th>\n",
       "      <th>91</th>\n",
       "      <th>92</th>\n",
       "      <th>93</th>\n",
       "      <th>94</th>\n",
       "      <th>95</th>\n",
       "      <th>96</th>\n",
       "      <th>97</th>\n",
       "      <th>98</th>\n",
       "      <th>99</th>\n",
       "    </tr>\n",
       "  </thead>\n",
       "  <tbody>\n",
       "    <tr>\n",
       "      <th>0</th>\n",
       "      <td>-0.096310</td>\n",
       "      <td>0.067924</td>\n",
       "      <td>0.031486</td>\n",
       "      <td>-0.167554</td>\n",
       "      <td>0.055831</td>\n",
       "      <td>-0.001578</td>\n",
       "      <td>0.066797</td>\n",
       "      <td>0.000164</td>\n",
       "      <td>-0.073512</td>\n",
       "      <td>0.014476</td>\n",
       "      <td>...</td>\n",
       "      <td>0.035888</td>\n",
       "      <td>0.026123</td>\n",
       "      <td>0.202629</td>\n",
       "      <td>0.058460</td>\n",
       "      <td>-0.040654</td>\n",
       "      <td>-0.001042</td>\n",
       "      <td>0.102455</td>\n",
       "      <td>0.226367</td>\n",
       "      <td>0.113333</td>\n",
       "      <td>-0.175255</td>\n",
       "    </tr>\n",
       "    <tr>\n",
       "      <th>1</th>\n",
       "      <td>-0.064731</td>\n",
       "      <td>0.056886</td>\n",
       "      <td>0.022981</td>\n",
       "      <td>-0.128610</td>\n",
       "      <td>0.039030</td>\n",
       "      <td>-0.001042</td>\n",
       "      <td>0.056466</td>\n",
       "      <td>-0.000796</td>\n",
       "      <td>-0.044993</td>\n",
       "      <td>-0.000035</td>\n",
       "      <td>...</td>\n",
       "      <td>0.018551</td>\n",
       "      <td>0.013898</td>\n",
       "      <td>0.149843</td>\n",
       "      <td>0.037827</td>\n",
       "      <td>-0.033362</td>\n",
       "      <td>-0.005988</td>\n",
       "      <td>0.073221</td>\n",
       "      <td>0.182959</td>\n",
       "      <td>0.094053</td>\n",
       "      <td>-0.139199</td>\n",
       "    </tr>\n",
       "    <tr>\n",
       "      <th>2</th>\n",
       "      <td>-0.195775</td>\n",
       "      <td>0.154632</td>\n",
       "      <td>0.073783</td>\n",
       "      <td>-0.306864</td>\n",
       "      <td>0.099703</td>\n",
       "      <td>-0.004767</td>\n",
       "      <td>0.114388</td>\n",
       "      <td>0.032246</td>\n",
       "      <td>-0.136854</td>\n",
       "      <td>0.004546</td>\n",
       "      <td>...</td>\n",
       "      <td>0.082018</td>\n",
       "      <td>0.025979</td>\n",
       "      <td>0.352154</td>\n",
       "      <td>0.108105</td>\n",
       "      <td>-0.051937</td>\n",
       "      <td>-0.022647</td>\n",
       "      <td>0.178084</td>\n",
       "      <td>0.434593</td>\n",
       "      <td>0.171569</td>\n",
       "      <td>-0.337492</td>\n",
       "    </tr>\n",
       "    <tr>\n",
       "      <th>3</th>\n",
       "      <td>-0.071405</td>\n",
       "      <td>0.032947</td>\n",
       "      <td>0.025441</td>\n",
       "      <td>-0.180049</td>\n",
       "      <td>0.050664</td>\n",
       "      <td>-0.003912</td>\n",
       "      <td>0.052526</td>\n",
       "      <td>-0.025135</td>\n",
       "      <td>-0.024634</td>\n",
       "      <td>0.059347</td>\n",
       "      <td>...</td>\n",
       "      <td>-0.006050</td>\n",
       "      <td>0.044832</td>\n",
       "      <td>0.190554</td>\n",
       "      <td>0.019657</td>\n",
       "      <td>-0.029337</td>\n",
       "      <td>0.014822</td>\n",
       "      <td>0.054260</td>\n",
       "      <td>0.135221</td>\n",
       "      <td>0.095127</td>\n",
       "      <td>-0.123696</td>\n",
       "    </tr>\n",
       "    <tr>\n",
       "      <th>4</th>\n",
       "      <td>-0.098871</td>\n",
       "      <td>0.054930</td>\n",
       "      <td>0.022484</td>\n",
       "      <td>-0.193019</td>\n",
       "      <td>0.059736</td>\n",
       "      <td>0.000085</td>\n",
       "      <td>0.046692</td>\n",
       "      <td>-0.005391</td>\n",
       "      <td>-0.073025</td>\n",
       "      <td>0.039333</td>\n",
       "      <td>...</td>\n",
       "      <td>0.022124</td>\n",
       "      <td>0.044290</td>\n",
       "      <td>0.218989</td>\n",
       "      <td>0.049972</td>\n",
       "      <td>-0.030020</td>\n",
       "      <td>0.011802</td>\n",
       "      <td>0.084207</td>\n",
       "      <td>0.193918</td>\n",
       "      <td>0.089685</td>\n",
       "      <td>-0.173869</td>\n",
       "    </tr>\n",
       "  </tbody>\n",
       "</table>\n",
       "<p>5 rows × 100 columns</p>\n",
       "</div>"
      ],
      "text/plain": [
       "         0         1         2         3         4         5         6   \\\n",
       "0 -0.096310  0.067924  0.031486 -0.167554  0.055831 -0.001578  0.066797   \n",
       "1 -0.064731  0.056886  0.022981 -0.128610  0.039030 -0.001042  0.056466   \n",
       "2 -0.195775  0.154632  0.073783 -0.306864  0.099703 -0.004767  0.114388   \n",
       "3 -0.071405  0.032947  0.025441 -0.180049  0.050664 -0.003912  0.052526   \n",
       "4 -0.098871  0.054930  0.022484 -0.193019  0.059736  0.000085  0.046692   \n",
       "\n",
       "         7         8         9     ...           90        91        92  \\\n",
       "0  0.000164 -0.073512  0.014476    ...     0.035888  0.026123  0.202629   \n",
       "1 -0.000796 -0.044993 -0.000035    ...     0.018551  0.013898  0.149843   \n",
       "2  0.032246 -0.136854  0.004546    ...     0.082018  0.025979  0.352154   \n",
       "3 -0.025135 -0.024634  0.059347    ...    -0.006050  0.044832  0.190554   \n",
       "4 -0.005391 -0.073025  0.039333    ...     0.022124  0.044290  0.218989   \n",
       "\n",
       "         93        94        95        96        97        98        99  \n",
       "0  0.058460 -0.040654 -0.001042  0.102455  0.226367  0.113333 -0.175255  \n",
       "1  0.037827 -0.033362 -0.005988  0.073221  0.182959  0.094053 -0.139199  \n",
       "2  0.108105 -0.051937 -0.022647  0.178084  0.434593  0.171569 -0.337492  \n",
       "3  0.019657 -0.029337  0.014822  0.054260  0.135221  0.095127 -0.123696  \n",
       "4  0.049972 -0.030020  0.011802  0.084207  0.193918  0.089685 -0.173869  \n",
       "\n",
       "[5 rows x 100 columns]"
      ]
     },
     "execution_count": 284,
     "metadata": {},
     "output_type": "execute_result"
    }
   ],
   "source": [
    "vector_df = pd.DataFrame(vector_df).T\n",
    "vector_df.head()"
   ]
  },
  {
   "cell_type": "code",
   "execution_count": 285,
   "metadata": {
    "collapsed": false
   },
   "outputs": [],
   "source": [
    "clusterer = hdbscan.HDBSCAN(min_cluster_size=3)\n",
    "cluster_labels = clusterer.fit_predict(vector_df)"
   ]
  },
  {
   "cell_type": "code",
   "execution_count": 288,
   "metadata": {
    "collapsed": false
   },
   "outputs": [
    {
     "name": "stdout",
     "output_type": "stream",
     "text": [
      "<class 'numpy.ndarray'>\n",
      "[939  -1 523 956  -1]\n"
     ]
    }
   ],
   "source": [
    "print(type(cluster_labels))\n",
    "print(cluster_labels[:5])"
   ]
  },
  {
   "cell_type": "code",
   "execution_count": 289,
   "metadata": {
    "collapsed": true
   },
   "outputs": [],
   "source": [
    "df['clusters'] = cluster_labels"
   ]
  },
  {
   "cell_type": "code",
   "execution_count": 293,
   "metadata": {
    "collapsed": true
   },
   "outputs": [],
   "source": [
    "# -1 is noisy clusters in hbdscan"
   ]
  },
  {
   "cell_type": "code",
   "execution_count": 291,
   "metadata": {
    "collapsed": true
   },
   "outputs": [],
   "source": [
    "clean_df = df[df['clusters'] != -1]"
   ]
  },
  {
   "cell_type": "code",
   "execution_count": 1,
   "metadata": {
    "collapsed": false
   },
   "outputs": [
    {
     "ename": "NameError",
     "evalue": "name 'Scatter' is not defined",
     "output_type": "error",
     "traceback": [
      "\u001b[0;31m---------------------------------------------------------------------------\u001b[0m",
      "\u001b[0;31mNameError\u001b[0m                                 Traceback (most recent call last)",
      "\u001b[0;32m<ipython-input-1-e54b03d09f0f>\u001b[0m in \u001b[0;36m<module>\u001b[0;34m()\u001b[0m\n\u001b[0;32m----> 1\u001b[0;31m p = Scatter(clean_df, x='lat', y='lng', color='clusters', title=\"chart\",\n\u001b[0m\u001b[1;32m      2\u001b[0m             xlabel=\"lat\", ylabel=\"lng\")\n\u001b[1;32m      3\u001b[0m \u001b[0mshow\u001b[0m\u001b[0;34m(\u001b[0m\u001b[0mp\u001b[0m\u001b[0;34m)\u001b[0m\u001b[0;34m\u001b[0m\u001b[0m\n",
      "\u001b[0;31mNameError\u001b[0m: name 'Scatter' is not defined"
     ]
    }
   ],
   "source": [
    "p = Scatter(clean_df, x='lat', y='lng', color='clusters', title=\"chart\",\n",
    "            xlabel=\"lat\", ylabel=\"lng\")\n",
    "show(p)"
   ]
  },
  {
   "cell_type": "code",
   "execution_count": null,
   "metadata": {
    "collapsed": true
   },
   "outputs": [],
   "source": []
  }
 ],
 "metadata": {
  "kernelspec": {
   "display_name": "Python 3",
   "language": "python",
   "name": "python3"
  },
  "language_info": {
   "codemirror_mode": {
    "name": "ipython",
    "version": 3
   },
   "file_extension": ".py",
   "mimetype": "text/x-python",
   "name": "python",
   "nbconvert_exporter": "python",
   "pygments_lexer": "ipython3",
   "version": "3.5.0"
  }
 },
 "nbformat": 4,
 "nbformat_minor": 2
}
